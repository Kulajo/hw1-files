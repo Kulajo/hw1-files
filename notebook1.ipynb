{
  "nbformat": 4,
  "nbformat_minor": 0,
  "metadata": {
    "colab": {
      "provenance": []
    },
    "kernelspec": {
      "name": "python3",
      "display_name": "Python 3"
    },
    "language_info": {
      "name": "python"
    }
  },
  "cells": [
    {
      "cell_type": "code",
      "execution_count": 1,
      "metadata": {
        "colab": {
          "base_uri": "https://localhost:8080/"
        },
        "id": "2UMxnZwDpjLV",
        "outputId": "bf33053a-cf86-405b-8350-2f8d26127d3e"
      },
      "outputs": [
        {
          "output_type": "execute_result",
          "data": {
            "text/plain": [
              "8"
            ]
          },
          "metadata": {},
          "execution_count": 1
        }
      ],
      "source": [
        "4+4"
      ]
    },
    {
      "cell_type": "markdown",
      "source": [
        "#this is a text chunk"
      ],
      "metadata": {
        "id": "p8XeZX1vpxEi"
      }
    }
  ]
}